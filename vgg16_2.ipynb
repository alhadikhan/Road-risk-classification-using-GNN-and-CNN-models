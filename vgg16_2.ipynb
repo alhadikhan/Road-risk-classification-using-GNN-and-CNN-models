{
 "cells": [
  {
   "cell_type": "code",
   "execution_count": 2,
   "id": "840b470e",
   "metadata": {},
   "outputs": [
    {
     "name": "stderr",
     "output_type": "stream",
     "text": [
      "100%|████████████████████████████████████████████████████████████████████████████████| 666/666 [00:39<00:00, 16.78it/s]\n",
      "100%|████████████████████████████████████████████████████████████████████████████████| 666/666 [00:35<00:00, 18.82it/s]\n"
     ]
    }
   ],
   "source": [
    "import os\n",
    "from PIL import Image\n",
    "import numpy as np\n",
    "from tqdm import tqdm\n",
    "\n",
    "# Function to apply zooming augmentation\n",
    "def zoom_image(image, zoom_factor):\n",
    "    width, height = image.size\n",
    "    new_width = int(width * zoom_factor)\n",
    "    new_height = int(height * zoom_factor)\n",
    "    resized_image = image.resize((new_width, new_height))\n",
    "    # If zoomed image is smaller than original, pad it with black\n",
    "    background = Image.new('RGB', (width, height), (0, 0, 0))\n",
    "    background.paste(resized_image, ((width - new_width) // 2, (height - new_height) // 2))\n",
    "    return background\n",
    "\n",
    "# Function to apply horizontal flipping augmentation\n",
    "def horizontal_flip(image):\n",
    "    return image.transpose(Image.FLIP_LEFT_RIGHT)\n",
    "\n",
    "# Paths to original folders\n",
    "class_0_path = r\"E:\\dataset_temp\\class_0\"\n",
    "class_1_path = r\"E:\\dataset_temp\\class_1\"\n",
    "\n",
    "# Paths to new folders for augmented images\n",
    "augmented_class_0_path = r\"E:\\dataset_temp\\augmented_class_0\"\n",
    "augmented_class_1_path = r\"E:\\dataset_temp\\augmented_class_1\"\n",
    "\n",
    "# Ensure new folders exist or create them\n",
    "os.makedirs(augmented_class_0_path, exist_ok=True)\n",
    "os.makedirs(augmented_class_1_path, exist_ok=True)\n",
    "\n",
    "# Function to iterate through each folder, augment images, and save them to new folders\n",
    "def augment_images(input_folder, output_folder):\n",
    "    for filename in tqdm(os.listdir(input_folder)):\n",
    "        image_path = os.path.join(input_folder, filename)\n",
    "        # Read image\n",
    "        image = Image.open(image_path)\n",
    "        # Apply zooming augmentation\n",
    "        zoomed_image = zoom_image(image, zoom_factor=1.2)  # Example zoom factor\n",
    "        # Apply horizontal flipping augmentation\n",
    "        flipped_image = horizontal_flip(image)\n",
    "        # Save augmented images\n",
    "        zoomed_image.save(os.path.join(output_folder, filename.replace('.jpg', '_zoomed.jpg')))\n",
    "        flipped_image.save(os.path.join(output_folder, filename.replace('.jpg', '_flipped.jpg')))\n",
    "\n",
    "# Augment images in class_0 folder\n",
    "augment_images(class_0_path, augmented_class_0_path)\n",
    "# Augment images in class_1 folder\n",
    "augment_images(class_1_path, augmented_class_1_path)\n"
   ]
  },
  {
   "cell_type": "code",
   "execution_count": null,
   "id": "f6724059",
   "metadata": {},
   "outputs": [],
   "source": []
  }
 ],
 "metadata": {
  "kernelspec": {
   "display_name": "Python 3 (ipykernel)",
   "language": "python",
   "name": "python3"
  },
  "language_info": {
   "codemirror_mode": {
    "name": "ipython",
    "version": 3
   },
   "file_extension": ".py",
   "mimetype": "text/x-python",
   "name": "python",
   "nbconvert_exporter": "python",
   "pygments_lexer": "ipython3",
   "version": "3.10.14"
  }
 },
 "nbformat": 4,
 "nbformat_minor": 5
}
