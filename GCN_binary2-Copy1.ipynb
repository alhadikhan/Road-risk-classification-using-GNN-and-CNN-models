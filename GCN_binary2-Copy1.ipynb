{
 "cells": [
  {
   "cell_type": "code",
   "execution_count": 1,
   "id": "c923b8da",
   "metadata": {},
   "outputs": [],
   "source": [
    "import os\n",
    "import cv2\n",
    "import numpy as np\n",
    "import matplotlib.pyplot as plt\n",
    "from sklearn.utils import resample\n",
    "from sklearn.model_selection import train_test_split\n",
    "import tensorflow as tf\n",
    "from tensorflow.keras import layers, models, regularizers\n",
    "from tensorflow.keras.preprocessing.image import ImageDataGenerator"
   ]
  },
  {
   "cell_type": "code",
   "execution_count": 2,
   "id": "c01d04d0",
   "metadata": {},
   "outputs": [],
   "source": [
    "def load_and_create_dataset(data_folders):\n",
    "    X, y = [], []\n",
    "    for label, data_folder in enumerate(data_folders):\n",
    "        for filename in os.listdir(data_folder):\n",
    "            img_path = os.path.join(data_folder, filename)\n",
    "            try:\n",
    "                img = cv2.imread(img_path)\n",
    "                img = cv2.resize(img, (224, 224))  # Resize images to (224, 224)\n",
    "                X.append(img)\n",
    "                y.append(label)\n",
    "            except Exception as e:\n",
    "                print(f\"Error loading image: {img_path}, Error: {str(e)}\")\n",
    "    X = np.array(X) / 255.0  # Normalize images\n",
    "    y = np.array(y)\n",
    "\n",
    "    # Create adjacency matrix\n",
    "    adj_matrix = create_adjacency_matrix(X[0].shape)\n",
    "\n",
    "    return X, y, adj_matrix\n"
   ]
  },
  {
   "cell_type": "code",
   "execution_count": 3,
   "id": "cadb6550",
   "metadata": {},
   "outputs": [],
   "source": [
    "def create_adjacency_matrix(img_shape):\n",
    "    rows, cols, _ = img_shape\n",
    "    num_nodes = rows * cols\n",
    "    adj_matrix = np.zeros((num_nodes, num_nodes))\n",
    "    for i in range(num_nodes):\n",
    "        row = i // cols\n",
    "        col = i % cols\n",
    "        neighbors = []\n",
    "        if row > 0:\n",
    "            neighbors.append((row - 1, col))  # Top\n",
    "        if row < rows - 1:\n",
    "            neighbors.append((row + 1, col))  # Bottom\n",
    "        if col > 0:\n",
    "            neighbors.append((row, col - 1))  # Left\n",
    "        if col < cols - 1:\n",
    "            neighbors.append((row, col + 1))  # Right\n",
    "        for n_row, n_col in neighbors:\n",
    "            j = n_row * cols + n_col\n",
    "            adj_matrix[i][j] = 1\n",
    "            adj_matrix[j][i] = 1\n",
    "    return adj_matrix"
   ]
  },
  {
   "cell_type": "code",
   "execution_count": 4,
   "id": "263c88ad",
   "metadata": {},
   "outputs": [],
   "source": [
    "def GCN_model(input_shape, adj_matrix):\n",
    "    inputs = layers.Input(shape=input_shape)\n",
    "\n",
    "    # Reshape input to match the adjacency matrix shape\n",
    "    x = layers.Reshape((-1, input_shape[0] * input_shape[1]))(inputs)\n",
    "\n",
    "    # Graph convolutional layer\n",
    "    x = layers.Dense(32, activation='relu', kernel_regularizer=regularizers.l2(0.01))(x)\n",
    "    x = layers.Dropout(0.5)(x)\n",
    "    x = layers.Dense(32, activation='relu', kernel_regularizer=regularizers.l2(0.01))(x)\n",
    "\n",
    "    # Graph pooling layer\n",
    "    pooled = layers.GlobalAveragePooling1D()(x)\n",
    "\n",
    "    # Fully connected layer\n",
    "    x = layers.Dense(64, activation='relu', kernel_regularizer=regularizers.l2(0.01))(pooled)\n",
    "    x = layers.Dropout(0.5)(x)\n",
    "    \n",
    "    # Output layer\n",
    "    outputs = layers.Dense(1, activation='sigmoid')(x)\n",
    "\n",
    "    model = models.Model(inputs=inputs, outputs=outputs)\n",
    "    return model"
   ]
  },
  {
   "cell_type": "code",
   "execution_count": 8,
   "id": "65282a4b",
   "metadata": {},
   "outputs": [
    {
     "ename": "MemoryError",
     "evalue": "Unable to allocate 18.8 GiB for an array with shape (50176, 50176) and data type float64",
     "output_type": "error",
     "traceback": [
      "\u001b[1;31m---------------------------------------------------------------------------\u001b[0m",
      "\u001b[1;31mMemoryError\u001b[0m                               Traceback (most recent call last)",
      "Cell \u001b[1;32mIn[8], line 6\u001b[0m\n\u001b[0;32m      3\u001b[0m augmented_class_1_path \u001b[38;5;241m=\u001b[39m \u001b[38;5;124mr\u001b[39m\u001b[38;5;124m\"\u001b[39m\u001b[38;5;124mE:\u001b[39m\u001b[38;5;124m\\\u001b[39m\u001b[38;5;124mdataset_temp\u001b[39m\u001b[38;5;124m\\\u001b[39m\u001b[38;5;124maugmented_class_1\u001b[39m\u001b[38;5;124m\"\u001b[39m\n\u001b[0;32m      5\u001b[0m \u001b[38;5;66;03m# Load and create the dataset\u001b[39;00m\n\u001b[1;32m----> 6\u001b[0m X, y, adj_matrix \u001b[38;5;241m=\u001b[39m \u001b[43mload_and_create_dataset\u001b[49m\u001b[43m(\u001b[49m\u001b[43m[\u001b[49m\u001b[43maugmented_class_0_path\u001b[49m\u001b[43m,\u001b[49m\u001b[43m \u001b[49m\u001b[43maugmented_class_1_path\u001b[49m\u001b[43m]\u001b[49m\u001b[43m)\u001b[49m\n\u001b[0;32m      8\u001b[0m \u001b[38;5;66;03m# Split the dataset into train, validation, and test sets\u001b[39;00m\n\u001b[0;32m      9\u001b[0m X_train, X_temp, y_train, y_temp \u001b[38;5;241m=\u001b[39m train_test_split(X, y, test_size\u001b[38;5;241m=\u001b[39m\u001b[38;5;241m0.2\u001b[39m, random_state\u001b[38;5;241m=\u001b[39m\u001b[38;5;241m42\u001b[39m)\n",
      "Cell \u001b[1;32mIn[2], line 17\u001b[0m, in \u001b[0;36mload_and_create_dataset\u001b[1;34m(data_folders)\u001b[0m\n\u001b[0;32m     14\u001b[0m y \u001b[38;5;241m=\u001b[39m np\u001b[38;5;241m.\u001b[39marray(y)\n\u001b[0;32m     16\u001b[0m \u001b[38;5;66;03m# Create adjacency matrix\u001b[39;00m\n\u001b[1;32m---> 17\u001b[0m adj_matrix \u001b[38;5;241m=\u001b[39m \u001b[43mcreate_adjacency_matrix\u001b[49m\u001b[43m(\u001b[49m\u001b[43mX\u001b[49m\u001b[43m[\u001b[49m\u001b[38;5;241;43m0\u001b[39;49m\u001b[43m]\u001b[49m\u001b[38;5;241;43m.\u001b[39;49m\u001b[43mshape\u001b[49m\u001b[43m)\u001b[49m\n\u001b[0;32m     19\u001b[0m \u001b[38;5;28;01mreturn\u001b[39;00m X, y, adj_matrix\n",
      "Cell \u001b[1;32mIn[3], line 4\u001b[0m, in \u001b[0;36mcreate_adjacency_matrix\u001b[1;34m(img_shape)\u001b[0m\n\u001b[0;32m      2\u001b[0m rows, cols, _ \u001b[38;5;241m=\u001b[39m img_shape\n\u001b[0;32m      3\u001b[0m num_nodes \u001b[38;5;241m=\u001b[39m rows \u001b[38;5;241m*\u001b[39m cols\n\u001b[1;32m----> 4\u001b[0m adj_matrix \u001b[38;5;241m=\u001b[39m \u001b[43mnp\u001b[49m\u001b[38;5;241;43m.\u001b[39;49m\u001b[43mzeros\u001b[49m\u001b[43m(\u001b[49m\u001b[43m(\u001b[49m\u001b[43mnum_nodes\u001b[49m\u001b[43m,\u001b[49m\u001b[43m \u001b[49m\u001b[43mnum_nodes\u001b[49m\u001b[43m)\u001b[49m\u001b[43m)\u001b[49m\n\u001b[0;32m      5\u001b[0m \u001b[38;5;28;01mfor\u001b[39;00m i \u001b[38;5;129;01min\u001b[39;00m \u001b[38;5;28mrange\u001b[39m(num_nodes):\n\u001b[0;32m      6\u001b[0m     row \u001b[38;5;241m=\u001b[39m i \u001b[38;5;241m/\u001b[39m\u001b[38;5;241m/\u001b[39m cols\n",
      "\u001b[1;31mMemoryError\u001b[0m: Unable to allocate 18.8 GiB for an array with shape (50176, 50176) and data type float64"
     ]
    }
   ],
   "source": [
    "# Paths to augmented folders\n",
    "augmented_class_0_path = r\"E:\\dataset_temp\\augmented_class_0\"\n",
    "augmented_class_1_path = r\"E:\\dataset_temp\\augmented_class_1\"\n",
    "\n",
    "# Load and create the dataset\n",
    "X, y, adj_matrix = load_and_create_dataset([augmented_class_0_path, augmented_class_1_path])\n",
    "\n",
    "# Split the dataset into train, validation, and test sets\n",
    "X_train, X_temp, y_train, y_temp = train_test_split(X, y, test_size=0.2, random_state=42)\n",
    "X_val, X_test, y_val, y_test = train_test_split(X_temp, y_temp, test_size=0.5, random_state=42)\n",
    "\n",
    "# Convert data to TensorFlow Dataset\n",
    "train_dataset = tf.data.Dataset.from_tensor_slices((X_train, y_train)).batch(16)\n",
    "val_dataset = tf.data.Dataset.from_tensor_slices((X_val, y_val)).batch(16)\n",
    "test_dataset = tf.data.Dataset.from_tensor_slices((X_test, y_test)).batch(16)\n",
    "\n",
    "# Print counts\n",
    "print(\"Train set size:\", len(X_train))\n",
    "print(\"Validation set size:\", len(X_val))\n",
    "print(\"Test set size:\", len(X_test))"
   ]
  },
  {
   "cell_type": "code",
   "execution_count": null,
   "id": "2140d72a",
   "metadata": {},
   "outputs": [],
   "source": [
    "# Define input shape\n",
    "input_shape = X_train[0].shape\n",
    "\n",
    "# Create and compile the model\n",
    "model = GCN_model(input_shape, adj_matrix)\n",
    "model.compile(optimizer=tf.keras.optimizers.Adam(learning_rate=0.001), loss='binary_crossentropy', metrics=['accuracy'])\n"
   ]
  },
  {
   "cell_type": "code",
   "execution_count": null,
   "id": "e7578f76",
   "metadata": {},
   "outputs": [],
   "source": [
    "# Train the model with Early Stopping\n",
    "early_stopping = tf.keras.callbacks.EarlyStopping(monitor='val_loss', patience=10, restore_best_weights=True)\n",
    "history = model.fit(train_dataset, epochs=100, validation_data=val_dataset, callbacks=[early_stopping])\n"
   ]
  },
  {
   "cell_type": "code",
   "execution_count": null,
   "id": "ef03eb6c",
   "metadata": {},
   "outputs": [],
   "source": [
    "# Evaluate the model\n",
    "test_loss, test_accuracy = model.evaluate(test_dataset)\n",
    "print(\"Test Loss:\", test_loss)\n",
    "print(\"Test Accuracy:\", test_accuracy)"
   ]
  },
  {
   "cell_type": "code",
   "execution_count": null,
   "id": "fcd681d9",
   "metadata": {},
   "outputs": [],
   "source": [
    "# Save the mode\n",
    "model.save(\"GCN_model_copy1.h5\")\n"
   ]
  },
  {
   "cell_type": "code",
   "execution_count": null,
   "id": "75bac6ec",
   "metadata": {},
   "outputs": [],
   "source": [
    "import os\n",
    "import cv2\n",
    "import numpy as np\n",
    "import matplotlib.pyplot as plt\n",
    "\n",
    "def predict_on_images(model, image_folder):\n",
    "    predictions = []\n",
    "    class_labels = ['not risky', 'risky']\n",
    "    for filename in os.listdir(image_folder):\n",
    "        img_path = os.path.join(image_folder, filename)\n",
    "        img = cv2.imread(img_path)\n",
    "        if img is not None:\n",
    "            img = cv2.resize(img, (224, 224))  # Resize images to the same size as the training images\n",
    "            img = np.expand_dims(img, axis=0)  # Add batch dimension\n",
    "            pred = model.predict(img)\n",
    "            predicted_class = np.round(pred).astype(int)[0][0]  # Round the prediction to 0 or 1\n",
    "            predictions.append((filename, predicted_class))\n",
    "            # Display the image with its predicted class\n",
    "            plt.imshow(cv2.cvtColor(cv2.imread(img_path), cv2.COLOR_BGR2RGB))\n",
    "            plt.title(f\"Predicted class: {class_labels[predicted_class]}\")\n",
    "            plt.axis('off')\n",
    "            plt.show()\n",
    "    return predictions\n",
    "\n",
    "# Call the function with your loaded model and test image folder\n",
    "model_load_path = \"GCN_model_copy1.h5\"\n",
    "model = tf.keras.models.load_model(model_load_path)\n",
    "image_folder = r\"E:\\dataset_temp\\test\"\n",
    "predictions = predict_on_images(model, image_folder)\n",
    "print(predictions)"
   ]
  },
  {
   "cell_type": "code",
   "execution_count": null,
   "id": "bbfcd389",
   "metadata": {},
   "outputs": [],
   "source": []
  }
 ],
 "metadata": {
  "kernelspec": {
   "display_name": "Python 3 (ipykernel)",
   "language": "python",
   "name": "python3"
  },
  "language_info": {
   "codemirror_mode": {
    "name": "ipython",
    "version": 3
   },
   "file_extension": ".py",
   "mimetype": "text/x-python",
   "name": "python",
   "nbconvert_exporter": "python",
   "pygments_lexer": "ipython3",
   "version": "3.10.14"
  }
 },
 "nbformat": 4,
 "nbformat_minor": 5
}
