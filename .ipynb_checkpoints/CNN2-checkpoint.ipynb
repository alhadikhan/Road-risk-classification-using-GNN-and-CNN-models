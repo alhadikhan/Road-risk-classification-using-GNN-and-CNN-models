{
 "cells": [
  {
   "cell_type": "code",
   "execution_count": 17,
   "id": "ef0688d3",
   "metadata": {},
   "outputs": [],
   "source": [
    "import os\n",
    "import numpy as np\n",
    "from tensorflow.keras.preprocessing.image import ImageDataGenerator\n",
    "from tensorflow.keras.applications import VGG16\n",
    "from tensorflow.keras.models import Model\n",
    "from tensorflow.keras.layers import Dense, Flatten\n",
    "from sklearn.model_selection import train_test_split"
   ]
  },
  {
   "cell_type": "code",
   "execution_count": 18,
   "id": "db7b9937",
   "metadata": {},
   "outputs": [],
   "source": [
    "# Define directories\n",
    "train_dir = 'F:/CE19009_EFTI/dataset2/train'\n",
    "validation_dir = 'F:/CE19009_EFTI/dataset2/validation'\n",
    "test_dir = 'F:/CE19009_EFTI/dataset2/test'"
   ]
  },
  {
   "cell_type": "code",
   "execution_count": 19,
   "id": "6c1b8f27",
   "metadata": {},
   "outputs": [],
   "source": [
    "# Define parameters\n",
    "batch_size = 32\n",
    "target_size = (224, 224)\n",
    "num_classes = 3"
   ]
  },
  {
   "cell_type": "code",
   "execution_count": 26,
   "id": "a838335c",
   "metadata": {},
   "outputs": [],
   "source": [
    "# Split train data into train and test with stratified sampling\n",
    "from sklearn.model_selection import train_test_split\n",
    "\n",
    "train_files = []\n",
    "train_labels = []\n",
    "\n",
    "for class_label in os.listdir(train_dir):\n",
    "    class_dir = os.path.join(train_dir, class_label)\n",
    "    files = [os.path.join(class_dir, file) for file in os.listdir(class_dir)]\n",
    "    train_files.extend(files)\n",
    "    train_labels.extend([class_label] * len(files))\n",
    "\n",
    "X_train, X_test, y_train, y_test = train_test_split(train_files, train_labels, test_size=0.2, stratify=train_labels, random_state=42)\n"
   ]
  },
  {
   "cell_type": "code",
   "execution_count": 27,
   "id": "f8cf3104",
   "metadata": {
    "scrolled": true
   },
   "outputs": [
    {
     "name": "stdout",
     "output_type": "stream",
     "text": [
      "Found 9285 validated image filenames belonging to 3 classes.\n",
      "Found 2322 validated image filenames belonging to 3 classes.\n"
     ]
    }
   ],
   "source": [
    "# Cell 5: Set up data generators\n",
    "import pandas as pd  # Import pandas library\n",
    "\n",
    "train_datagen = ImageDataGenerator(rescale=1./255)\n",
    "validation_datagen = ImageDataGenerator(rescale=1./255)\n",
    "\n",
    "train_df = pd.DataFrame({'filename': X_train, 'class': y_train})\n",
    "validation_df = pd.DataFrame({'filename': X_test, 'class': y_test})\n",
    "\n",
    "train_generator = train_datagen.flow_from_dataframe(\n",
    "    train_df,\n",
    "    x_col='filename',\n",
    "    y_col='class',\n",
    "    target_size=target_size,\n",
    "    batch_size=batch_size,\n",
    "    class_mode='categorical'\n",
    ")\n",
    "\n",
    "validation_generator = validation_datagen.flow_from_dataframe(\n",
    "    validation_df,\n",
    "    x_col='filename',\n",
    "    y_col='class',\n",
    "    target_size=target_size,\n",
    "    batch_size=batch_size,\n",
    "    class_mode='categorical'\n",
    ")\n"
   ]
  },
  {
   "cell_type": "code",
   "execution_count": 28,
   "id": "813478a0",
   "metadata": {},
   "outputs": [],
   "source": [
    "# Cell 6: Load pre-trained VGG model\n",
    "base_model = VGG16(weights='imagenet', include_top=False, input_shape=(224, 224, 3))\n",
    "\n",
    "# Add custom top layers\n",
    "x = Flatten()(base_model.output)\n",
    "x = Dense(512, activation='relu')(x)\n",
    "predictions = Dense(num_classes, activation='softmax')(x)\n",
    "\n",
    "model = Model(inputs=base_model.input, outputs=predictions)\n",
    "\n",
    "# Freeze the pre-trained layers\n",
    "for layer in base_model.layers:\n",
    "    layer.trainable = False\n",
    "\n",
    "# Compile the model\n",
    "model.compile(optimizer='adam', loss='categorical_crossentropy', metrics=['accuracy'])\n"
   ]
  },
  {
   "cell_type": "code",
   "execution_count": null,
   "id": "a2c6dd31",
   "metadata": {},
   "outputs": [
    {
     "name": "stdout",
     "output_type": "stream",
     "text": [
      "Epoch 1/10\n",
      " 75/291 [======>.......................] - ETA: 9:20 - loss: 0.8946 - accuracy: 0.9233"
     ]
    }
   ],
   "source": [
    "# Cell 7: Train the model\n",
    "history = model.fit(\n",
    "    train_generator,\n",
    "    steps_per_epoch=len(train_generator),\n",
    "    epochs=10,\n",
    "    validation_data=validation_generator,\n",
    "    validation_steps=len(validation_generator)\n",
    ")\n"
   ]
  },
  {
   "cell_type": "code",
   "execution_count": 16,
   "id": "fff22673",
   "metadata": {},
   "outputs": [
    {
     "name": "stdout",
     "output_type": "stream",
     "text": [
      "1/1 [==============================] - 0s 118ms/step\n",
      "1-139-ezgif.com-avif-to-jpg-converter.jpg: high risky roads\n",
      "5f3283e08e7cf44249dfb5dab638582e.jpg: high risky roads\n",
      "bangladeshroad-ezgif.com-webp-to-jpg-converter.jpg: high risky roads\n",
      "d623fa59a3ee50a81bfddf77c77c76fcfaf5b4b8d006c0a0.jpg: high risky roads\n",
      "image-49194-1646810564.jpg: high risky roads\n",
      "jpg-ezgif.com-webp-to-jpg-converter.jpg: high risky roads\n"
     ]
    }
   ],
   "source": [
    "# Cell 8: Evaluate the model\n",
    "test_datagen = ImageDataGenerator(rescale=1./255)\n",
    "\n",
    "test_generator = test_datagen.flow_from_directory(\n",
    "    test_dir,\n",
    "    target_size=target_size,\n",
    "    batch_size=1,\n",
    "    class_mode=None,\n",
    "    shuffle=False\n",
    ")\n",
    "\n",
    "test_loss, test_acc = model.evaluate(test_generator)\n",
    "print(\"Test Accuracy:\", test_acc)\n"
   ]
  },
  {
   "cell_type": "code",
   "execution_count": null,
   "id": "5e103751",
   "metadata": {},
   "outputs": [],
   "source": []
  }
 ],
 "metadata": {
  "kernelspec": {
   "display_name": "Python 3 (ipykernel)",
   "language": "python",
   "name": "python3"
  },
  "language_info": {
   "codemirror_mode": {
    "name": "ipython",
    "version": 3
   },
   "file_extension": ".py",
   "mimetype": "text/x-python",
   "name": "python",
   "nbconvert_exporter": "python",
   "pygments_lexer": "ipython3",
   "version": "3.9.12"
  }
 },
 "nbformat": 4,
 "nbformat_minor": 5
}
