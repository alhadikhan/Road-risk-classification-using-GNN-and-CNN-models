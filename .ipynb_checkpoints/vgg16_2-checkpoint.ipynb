{
 "cells": [
  {
   "cell_type": "code",
   "execution_count": 1,
   "id": "f330a7d5",
   "metadata": {},
   "outputs": [
    {
     "name": "stdout",
     "output_type": "stream",
     "text": [
      "Number of images in class 0: 1787\n",
      "Number of images in class 1: 666\n"
     ]
    }
   ],
   "source": [
    "import os\n",
    "\n",
    "# Define the paths to the folders\n",
    "class_0_path = \"E:/dataset_temp/class_0\"\n",
    "class_1_path = \"E:/dataset_temp/class_1\"\n",
    "\n",
    "# Function to count the number of files in a directory\n",
    "def count_files(directory):\n",
    "    return len([name for name in os.listdir(directory) if os.path.isfile(os.path.join(directory, name))])\n",
    "\n",
    "# Count the number of images in each class\n",
    "class_0_count = count_files(class_0_path)\n",
    "class_1_count = count_files(class_1_path)\n",
    "\n",
    "# Print the counts\n",
    "print(\"Number of images in class 0:\", class_0_count)\n",
    "print(\"Number of images in class 1:\", class_1_count)\n"
   ]
  },
  {
   "cell_type": "code",
   "execution_count": 2,
   "id": "384194ce",
   "metadata": {},
   "outputs": [
    {
     "name": "stdout",
     "output_type": "stream",
     "text": [
      "Number of images in resampled class 0: 666\n"
     ]
    }
   ],
   "source": [
    "import os\n",
    "import random\n",
    "import shutil\n",
    "\n",
    "# Define paths to the folders\n",
    "class_0_path = \"E:/dataset_temp/class_0\"\n",
    "class_1_path = \"E:/dataset_temp/class_1\"\n",
    "resampled_class_0_path = \"E:/dataset_temp/resampled_class_0\"\n",
    "\n",
    "# Ensure resampled_class_0_path exists, create if it doesn't\n",
    "if not os.path.exists(resampled_class_0_path):\n",
    "    os.makedirs(resampled_class_0_path)\n",
    "\n",
    "# Function to randomly select files from a directory and copy them to another directory\n",
    "def random_undersample(source_dir, target_dir, num_samples):\n",
    "    filenames = os.listdir(source_dir)\n",
    "    random.shuffle(filenames)\n",
    "    for filename in filenames[:num_samples]:\n",
    "        shutil.copy(os.path.join(source_dir, filename), target_dir)\n",
    "\n",
    "# Number of samples to keep in each class\n",
    "num_samples = min(class_0_count, class_1_count)\n",
    "\n",
    "# Perform random undersampling on class 0\n",
    "random_undersample(class_0_path, resampled_class_0_path, num_samples)\n",
    "\n",
    "# Print the new count for class 0\n",
    "resampled_class_0_count = count_files(resampled_class_0_path)\n",
    "print(\"Number of images in resampled class 0:\", resampled_class_0_count)\n"
   ]
  },
  {
   "cell_type": "code",
   "execution_count": 16,
   "id": "18025f0b",
   "metadata": {},
   "outputs": [
    {
     "name": "stderr",
     "output_type": "stream",
     "text": [
      "Applying Augmentation: 100%|███████████████████████████████████████████████████████| 1787/1787 [05:17<00:00,  5.62it/s]\n",
      "Applying Augmentation: 100%|█████████████████████████████████████████████████████████| 666/666 [03:36<00:00,  3.08it/s]"
     ]
    },
    {
     "name": "stdout",
     "output_type": "stream",
     "text": [
      "Augmentation completed.\n"
     ]
    },
    {
     "name": "stderr",
     "output_type": "stream",
     "text": [
      "\n"
     ]
    }
   ],
   "source": [
    "import os\n",
    "import random\n",
    "import shutil\n",
    "from PIL import Image, ImageOps, ImageFilter\n",
    "from tqdm import tqdm\n",
    "\n",
    "resampled_class_0_path = \"E:/dataset_temp/resampled_class_0_augmented\"\n",
    "resampled_class_1_path = \"E:/dataset_temp/class_1_augmented\"\n",
    "\n",
    "# Ensure resampled_class_0_path and resampled_class_1_path exist, create if they don't\n",
    "for path in [resampled_class_0_path, resampled_class_1_path]:\n",
    "    if not os.path.exists(path):\n",
    "        os.makedirs(path)\n",
    "\n",
    "def augment_data(source_dir, target_dir, num_augmented_samples):\n",
    "    filenames = os.listdir(source_dir)\n",
    "    total_files = len(filenames)\n",
    "    \n",
    "    # Apply horizontal flipping and zooming to all images\n",
    "    for filename in tqdm(filenames, desc=\"Applying Augmentation\"):\n",
    "        img = Image.open(os.path.join(source_dir, filename))\n",
    "        img = img.convert('RGB')\n",
    "        \n",
    "        # Apply horizontal flipping\n",
    "        img_flipped = img.transpose(Image.FLIP_LEFT_RIGHT)\n",
    "        img_flipped.save(os.path.join(target_dir, f\"flipped_{filename}\"))\n",
    "        \n",
    "        # Apply zooming\n",
    "        for i in range(num_augmented_samples):\n",
    "            zoom_factor = 1.0 + (i + 1) * 0.1  # Adjust zoom factor deterministically\n",
    "            new_width = int(img.width * zoom_factor)\n",
    "            new_height = int(img.height * zoom_factor)\n",
    "            img_zoomed = img.resize((new_width, new_height), Image.BICUBIC)\n",
    "            img_zoomed.save(os.path.join(target_dir, f\"zoomed_{i}_{filename}\"))\n",
    "\n",
    "# Number of augmented samples to generate\n",
    "num_augmented_samples = 4  # Adjust as needed\n",
    "\n",
    "# Perform data augmentation on class 0\n",
    "augment_data(class_0_path, resampled_class_0_path, num_augmented_samples)\n",
    "\n",
    "# Perform data augmentation on class 1\n",
    "augment_data(class_1_path, resampled_class_1_path, num_augmented_samples)\n",
    "\n",
    "# Print completion message\n",
    "print(\"Augmentation completed.\")\n"
   ]
  },
  {
   "cell_type": "code",
   "execution_count": null,
   "id": "bcd58973",
   "metadata": {},
   "outputs": [],
   "source": []
  }
 ],
 "metadata": {
  "kernelspec": {
   "display_name": "Python 3 (ipykernel)",
   "language": "python",
   "name": "python3"
  },
  "language_info": {
   "codemirror_mode": {
    "name": "ipython",
    "version": 3
   },
   "file_extension": ".py",
   "mimetype": "text/x-python",
   "name": "python",
   "nbconvert_exporter": "python",
   "pygments_lexer": "ipython3",
   "version": "3.10.14"
  }
 },
 "nbformat": 4,
 "nbformat_minor": 5
}
